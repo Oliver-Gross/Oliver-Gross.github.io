{
 "cells": [
  {
   "cell_type": "markdown",
   "metadata": {},
   "source": [
    "# Heart Failure Prediction "
   ]
  },
  {
   "cell_type": "markdown",
   "metadata": {},
   "source": [
    "This Dataset is a combination of 5 independent datasets. They had 11 features in common, which are displayed in this dataset.\n",
    "We will use the data from \n",
    "\n",
    "\n",
    "Acknowledgements\n",
    "\n",
    "    1. Hungarian Institute of Cardiology. Budapest: Andras Janosi, M.D.\n",
    "    2. University Hospital, Zurich, Switzerland: William Steinbrunn, M.D.\n",
    "    3. University Hospital, Basel, Switzerland: Matthias Pfisterer, M.D.\n",
    "    4. V.A. Medical Center, Long Beach and Cleveland Clinic Foundation: Robert Detrano, M.D., Ph.D.\n",
    "\n",
    "Donor:\n",
    "David W. Aha (aha '@' ics.uci.edu) (714) 856-8779\n",
    "\n",
    "Used dataset from: https://www.kaggle.com/fedesoriano/heart-failure-prediction"
   ]
  },
  {
   "cell_type": "markdown",
   "metadata": {},
   "source": [
    " # Used Libraries and loading data into data frame"
   ]
  },
  {
   "cell_type": "code",
   "execution_count": 26,
   "metadata": {
    "scrolled": true
   },
   "outputs": [
    {
     "data": {
      "text/html": [
       "<div>\n",
       "<style scoped>\n",
       "    .dataframe tbody tr th:only-of-type {\n",
       "        vertical-align: middle;\n",
       "    }\n",
       "\n",
       "    .dataframe tbody tr th {\n",
       "        vertical-align: top;\n",
       "    }\n",
       "\n",
       "    .dataframe thead th {\n",
       "        text-align: right;\n",
       "    }\n",
       "</style>\n",
       "<table border=\"1\" class=\"dataframe\">\n",
       "  <thead>\n",
       "    <tr style=\"text-align: right;\">\n",
       "      <th></th>\n",
       "      <th>Age</th>\n",
       "      <th>Sex</th>\n",
       "      <th>ChestPainType</th>\n",
       "      <th>RestingBP</th>\n",
       "      <th>Cholesterol</th>\n",
       "      <th>FastingBS</th>\n",
       "      <th>RestingECG</th>\n",
       "      <th>MaxHR</th>\n",
       "      <th>ExerciseAngina</th>\n",
       "      <th>Oldpeak</th>\n",
       "      <th>ST_Slope</th>\n",
       "      <th>HeartDisease</th>\n",
       "    </tr>\n",
       "  </thead>\n",
       "  <tbody>\n",
       "    <tr>\n",
       "      <th>0</th>\n",
       "      <td>40</td>\n",
       "      <td>M</td>\n",
       "      <td>ATA</td>\n",
       "      <td>140</td>\n",
       "      <td>289</td>\n",
       "      <td>0</td>\n",
       "      <td>Normal</td>\n",
       "      <td>172</td>\n",
       "      <td>N</td>\n",
       "      <td>0.0</td>\n",
       "      <td>Up</td>\n",
       "      <td>0</td>\n",
       "    </tr>\n",
       "    <tr>\n",
       "      <th>1</th>\n",
       "      <td>49</td>\n",
       "      <td>F</td>\n",
       "      <td>NAP</td>\n",
       "      <td>160</td>\n",
       "      <td>180</td>\n",
       "      <td>0</td>\n",
       "      <td>Normal</td>\n",
       "      <td>156</td>\n",
       "      <td>N</td>\n",
       "      <td>1.0</td>\n",
       "      <td>Flat</td>\n",
       "      <td>1</td>\n",
       "    </tr>\n",
       "    <tr>\n",
       "      <th>2</th>\n",
       "      <td>37</td>\n",
       "      <td>M</td>\n",
       "      <td>ATA</td>\n",
       "      <td>130</td>\n",
       "      <td>283</td>\n",
       "      <td>0</td>\n",
       "      <td>ST</td>\n",
       "      <td>98</td>\n",
       "      <td>N</td>\n",
       "      <td>0.0</td>\n",
       "      <td>Up</td>\n",
       "      <td>0</td>\n",
       "    </tr>\n",
       "    <tr>\n",
       "      <th>3</th>\n",
       "      <td>48</td>\n",
       "      <td>F</td>\n",
       "      <td>ASY</td>\n",
       "      <td>138</td>\n",
       "      <td>214</td>\n",
       "      <td>0</td>\n",
       "      <td>Normal</td>\n",
       "      <td>108</td>\n",
       "      <td>Y</td>\n",
       "      <td>1.5</td>\n",
       "      <td>Flat</td>\n",
       "      <td>1</td>\n",
       "    </tr>\n",
       "    <tr>\n",
       "      <th>4</th>\n",
       "      <td>54</td>\n",
       "      <td>M</td>\n",
       "      <td>NAP</td>\n",
       "      <td>150</td>\n",
       "      <td>195</td>\n",
       "      <td>0</td>\n",
       "      <td>Normal</td>\n",
       "      <td>122</td>\n",
       "      <td>N</td>\n",
       "      <td>0.0</td>\n",
       "      <td>Up</td>\n",
       "      <td>0</td>\n",
       "    </tr>\n",
       "  </tbody>\n",
       "</table>\n",
       "</div>"
      ],
      "text/plain": [
       "   Age Sex ChestPainType  RestingBP  Cholesterol  FastingBS RestingECG  MaxHR  \\\n",
       "0   40   M           ATA        140          289          0     Normal    172   \n",
       "1   49   F           NAP        160          180          0     Normal    156   \n",
       "2   37   M           ATA        130          283          0         ST     98   \n",
       "3   48   F           ASY        138          214          0     Normal    108   \n",
       "4   54   M           NAP        150          195          0     Normal    122   \n",
       "\n",
       "  ExerciseAngina  Oldpeak ST_Slope  HeartDisease  \n",
       "0              N      0.0       Up             0  \n",
       "1              N      1.0     Flat             1  \n",
       "2              N      0.0       Up             0  \n",
       "3              Y      1.5     Flat             1  \n",
       "4              N      0.0       Up             0  "
      ]
     },
     "execution_count": 26,
     "metadata": {},
     "output_type": "execute_result"
    }
   ],
   "source": [
    "import pandas as pd\n",
    "import matplotlib.pyplot as plt\n",
    "from sklearn.metrics import accuracy_score\n",
    "from sklearn.linear_model import LogisticRegression\n",
    "import seaborn as sns\n",
    "%matplotlib inline\n",
    "\n",
    "df = pd.read_csv('./heart.csv')\n",
    "df.head()"
   ]
  },
  {
   "cell_type": "markdown",
   "metadata": {},
   "source": [
    "Attributes of the data:\n",
    "    1. Age: age of the patient (years)\n",
    "    2. Sex: sex of the patient (M: Male, F: Female)\n",
    "    3. ChestPainType: chest pain type (TA: Typ. Angina, ATA: Atypical Angina, NAP: Non-Anginal Pain, ASY: Asymptomatic)\n",
    "    4. RestingBP: resting blood pressure (mm Hg)\n",
    "    5. Cholesterol: serum cholesterol (mm/dl) (Normal if < 200)\n",
    "    6. FastingBS: fasting blood sugar (1: if FastingBS > 120 mg/dl, 0: otherwise)\n",
    "    7. RestingECG: resting electrocardiogram results (Normal: Normal, ST: having ST-T wave abnormality, LVH: showing probable  or definite left ventricular hypertrophy by Estes' criteria)\n",
    "    8. MaxHR: maximum heart rate achieved (Numeric value between 60 and 202)\n",
    "    9. ExerciseAngina: exercise-induced angina (Y: Yes, N: No)\n",
    "    10. Oldpeak: oldpeak = ST (Numeric value measured in depression)\n",
    "    11. ST_Slope: the slope of the peak exercise ST segment (Up: upsloping, Flat: flat, Down: downsloping)\n",
    "    12. HeartDisease: output class (1: heart disease, 0: Normal)\n",
    "    "
   ]
  },
  {
   "cell_type": "markdown",
   "metadata": {},
   "source": [
    "# Checking for missing values and looking at the data types"
   ]
  },
  {
   "cell_type": "code",
   "execution_count": 27,
   "metadata": {},
   "outputs": [
    {
     "name": "stdout",
     "output_type": "stream",
     "text": [
      "0\n",
      "Age                 int64\n",
      "Sex                object\n",
      "ChestPainType      object\n",
      "RestingBP           int64\n",
      "Cholesterol         int64\n",
      "FastingBS           int64\n",
      "RestingECG         object\n",
      "MaxHR               int64\n",
      "ExerciseAngina     object\n",
      "Oldpeak           float64\n",
      "ST_Slope           object\n",
      "HeartDisease        int64\n",
      "dtype: object\n"
     ]
    }
   ],
   "source": [
    "print(df.isnull().sum().sum()) #Finding missing values\n",
    "print(df.dtypes)"
   ]
  },
  {
   "cell_type": "markdown",
   "metadata": {},
   "source": [
    "It seems like we have no missing data and features are either numeric or objects."
   ]
  },
  {
   "cell_type": "markdown",
   "metadata": {},
   "source": [
    "# Correlation of the data"
   ]
  },
  {
   "cell_type": "markdown",
   "metadata": {},
   "source": [
    "Here we will plot the Pearson correlation heatmap and see the correlation of independent variables with the output variable \"HeartDisease\".\n",
    "The correlation coefficient has values between -1 and 1.\n",
    "A value of 0 indicates that there is no association between the two variables. A value greater than 0 indicates a positive association; that is, as the value of one variable increases, so does the value of the other variable. A value less than 0 indicates a negative association; that is, as the value of one variable increases, the value of the other variable decreases."
   ]
  },
  {
   "cell_type": "code",
   "execution_count": 28,
   "metadata": {},
   "outputs": [
    {
     "name": "stdout",
     "output_type": "stream",
     "text": [
      "Age                 int64\n",
      "Sex                  int8\n",
      "ChestPainType        int8\n",
      "RestingBP           int64\n",
      "Cholesterol         int64\n",
      "FastingBS           int64\n",
      "RestingECG           int8\n",
      "MaxHR               int64\n",
      "ExerciseAngina       int8\n",
      "Oldpeak           float64\n",
      "ST_Slope           object\n",
      "HeartDisease        int64\n",
      "dtype: object\n"
     ]
    },
    {
     "data": {
      "text/plain": [
       "<matplotlib.axes._subplots.AxesSubplot at 0x27c4bbb66d0>"
      ]
     },
     "execution_count": 28,
     "metadata": {},
     "output_type": "execute_result"
    },
    {
     "data": {
      "image/png": "[encoded data removed]",
      "text/plain": [
       "<Figure size 432x288 with 2 Axes>"
      ]
     },
     "metadata": {
      "needs_background": "light"
     },
     "output_type": "display_data"
    }
   ],
   "source": [
    "#Using Pearson Correlation\n",
    "df['Sex'] =df['Sex'].astype('category').cat.codes # [F,M] --> [0,1]\n",
    "\n",
    "#Here we convert our object arguments into an int type\n",
    "df['ExerciseAngina'] =df['ExerciseAngina'].astype('category').cat.codes # [N,Y] --> [0,1]\n",
    "df['RestingECG'] =df['RestingECG'].astype('category').cat.codes #[LVH,Normal,ST] --> [0,1,2]\n",
    "df['ChestPainType'] =df['ChestPainType'].astype('category').cat.codes # [ASY,ATA,NAP,TA] -->[0,1,2,3]\n",
    "print(df.dtypes)\n",
    "sns.heatmap(df.corr(), annot=True, fmt=\".2f\")"
   ]
  },
  {
   "cell_type": "markdown",
   "metadata": {},
   "source": [
    " Since we are focused on the outcome of the feature \"HeartDisease\", we will look at the last row.\n",
    " The following features corralte the most: \"MaxHR\", \"ExerciseAngina\" and \"Oldpeak\".\n",
    " Hence we will drop all other features.\n",
    " However before that we need to see wether our chosen features correlate with each other. If they do we will\n",
    " only need one of them."
   ]
  },
  {
   "cell_type": "code",
   "execution_count": 29,
   "metadata": {},
   "outputs": [
    {
     "name": "stdout",
     "output_type": "stream",
     "text": [
      "                   MaxHR  ExerciseAngina\n",
      "MaxHR           1.000000       -0.370425\n",
      "ExerciseAngina -0.370425        1.000000\n",
      "            MaxHR   Oldpeak\n",
      "MaxHR    1.000000 -0.160691\n",
      "Oldpeak -0.160691  1.000000\n",
      "                ExerciseAngina   Oldpeak\n",
      "ExerciseAngina        1.000000  0.408752\n",
      "Oldpeak               0.408752  1.000000\n"
     ]
    }
   ],
   "source": [
    "print(df[[\"MaxHR\",\"ExerciseAngina\"]].corr())\n",
    "print(df[[\"MaxHR\",\"Oldpeak\"]].corr())\n",
    "print(df[[\"ExerciseAngina\", \"Oldpeak\"]].corr())"
   ]
  },
  {
   "cell_type": "markdown",
   "metadata": {},
   "source": [
    "Since \"ExerciseAngina\" has a high corraltion with \"MaxHR\" and \"Oldpeak\" we will drop it."
   ]
  },
  {
   "cell_type": "code",
   "execution_count": 30,
   "metadata": {},
   "outputs": [
    {
     "data": {
      "text/html": [
       "<div>\n",
       "<style scoped>\n",
       "    .dataframe tbody tr th:only-of-type {\n",
       "        vertical-align: middle;\n",
       "    }\n",
       "\n",
       "    .dataframe tbody tr th {\n",
       "        vertical-align: top;\n",
       "    }\n",
       "\n",
       "    .dataframe thead th {\n",
       "        text-align: right;\n",
       "    }\n",
       "</style>\n",
       "<table border=\"1\" class=\"dataframe\">\n",
       "  <thead>\n",
       "    <tr style=\"text-align: right;\">\n",
       "      <th></th>\n",
       "      <th>MaxHR</th>\n",
       "      <th>Oldpeak</th>\n",
       "      <th>HeartDisease</th>\n",
       "    </tr>\n",
       "  </thead>\n",
       "  <tbody>\n",
       "    <tr>\n",
       "      <th>0</th>\n",
       "      <td>172</td>\n",
       "      <td>0.0</td>\n",
       "      <td>0</td>\n",
       "    </tr>\n",
       "    <tr>\n",
       "      <th>1</th>\n",
       "      <td>156</td>\n",
       "      <td>1.0</td>\n",
       "      <td>1</td>\n",
       "    </tr>\n",
       "    <tr>\n",
       "      <th>2</th>\n",
       "      <td>98</td>\n",
       "      <td>0.0</td>\n",
       "      <td>0</td>\n",
       "    </tr>\n",
       "    <tr>\n",
       "      <th>3</th>\n",
       "      <td>108</td>\n",
       "      <td>1.5</td>\n",
       "      <td>1</td>\n",
       "    </tr>\n",
       "    <tr>\n",
       "      <th>4</th>\n",
       "      <td>122</td>\n",
       "      <td>0.0</td>\n",
       "      <td>0</td>\n",
       "    </tr>\n",
       "  </tbody>\n",
       "</table>\n",
       "</div>"
      ],
      "text/plain": [
       "   MaxHR  Oldpeak  HeartDisease\n",
       "0    172      0.0             0\n",
       "1    156      1.0             1\n",
       "2     98      0.0             0\n",
       "3    108      1.5             1\n",
       "4    122      0.0             0"
      ]
     },
     "execution_count": 30,
     "metadata": {},
     "output_type": "execute_result"
    }
   ],
   "source": [
    "df_new = df[[\"MaxHR\", \"Oldpeak\", \"HeartDisease\"]]\n",
    "df_new.head()"
   ]
  },
  {
   "cell_type": "markdown",
   "metadata": {},
   "source": [
    "With those two features we will try to predict an heartdisease."
   ]
  },
  {
   "cell_type": "markdown",
   "metadata": {},
   "source": [
    "# Prepare a Training Dataset"
   ]
  },
  {
   "cell_type": "code",
   "execution_count": 31,
   "metadata": {},
   "outputs": [
    {
     "name": "stdout",
     "output_type": "stream",
     "text": [
      "0.7429193899782135\n"
     ]
    }
   ],
   "source": [
    "X = df[[\"MaxHR\", \"Oldpeak\"]]#Feature Matrix\n",
    "y = df[\"HeartDisease\"] #Target Variable\n",
    "\n",
    "# define model\n",
    "model = LogisticRegression(solver='lbfgs')\n",
    "# fit model\n",
    "model.fit(X, y)\n",
    "# make predictions\n",
    "yhat = model.predict(X)\n",
    "# evaluate predictions\n",
    "acc = accuracy_score(y, yhat)\n",
    "print(acc)"
   ]
  },
  {
   "cell_type": "markdown",
   "metadata": {},
   "source": [
    "# Making Predictions with new input"
   ]
  },
  {
   "cell_type": "code",
   "execution_count": 32,
   "metadata": {},
   "outputs": [
    {
     "name": "stdout",
     "output_type": "stream",
     "text": [
      "Output: [1]\n"
     ]
    }
   ],
   "source": [
    "new_input = [[70, 1]]\n",
    "new_output = model.predict(new_input)\n",
    "#Prediction\n",
    "print(\"Output:\", new_output)"
   ]
  },
  {
   "cell_type": "markdown",
   "metadata": {},
   "source": [
    "It would also be useful to know how high the probability for the outcome is."
   ]
  },
  {
   "cell_type": "code",
   "execution_count": 33,
   "metadata": {},
   "outputs": [
    {
     "name": "stdout",
     "output_type": "stream",
     "text": [
      "Probability: [[0.05949208 0.94050792]]\n"
     ]
    }
   ],
   "source": [
    "log_prob = model.predict_log_proba(new_input)\n",
    "proba = model.predict_proba(new_input)\n",
    "\n",
    "print(\"Probability:\", proba) #[No Heart disease, Heart disease]"
   ]
  },
  {
   "cell_type": "markdown",
   "metadata": {},
   "source": [
    "This gives us a probability of 6 % for no heart disease and of 94 % a heart disease.\n"
   ]
  },
  {
   "cell_type": "markdown",
   "metadata": {},
   "source": [
    "Credits to Jason Brownlee for his fitting model:\n",
    "https://machinelearningmastery.com/how-to-connect-model-input-data-with-predictions-for-machine-learning/"
   ]
  },
  {
   "cell_type": "markdown",
   "metadata": {},
   "source": [
    "# Using the prediction model for our three questions"
   ]
  },
  {
   "cell_type": "markdown",
   "metadata": {},
   "source": [
    "1) What is the probability of a heart disease for men and women based on their age?<br>\n",
    "2) Can the data from a smart watch (which records the heart ratio and the blood pressure) increase\n",
    "   the accuracy of the model from question 1?<br>\n",
    "3) Which other of the features complements the already used features best?"
   ]
  },
  {
   "cell_type": "markdown",
   "metadata": {},
   "source": [
    "# 1) Accuracy of the prediction based on \"Sex\" and \"Age\""
   ]
  },
  {
   "cell_type": "code",
   "execution_count": 37,
   "metadata": {},
   "outputs": [
    {
     "name": "stdout",
     "output_type": "stream",
     "text": [
      "Accuracy: 0.6895424836601307\n"
     ]
    }
   ],
   "source": [
    "age_sex = df[[\"Age\", \"Sex\"]]#Feature Matrix\n",
    "\n",
    "model = LogisticRegression(solver='lbfgs')\n",
    "model.fit(age_sex, y)\n",
    "yhat = model.predict(age_sex)\n",
    "acc2 = accuracy_score(y, yhat)\n",
    "print(\"Accuracy:\",acc2)"
   ]
  },
  {
   "cell_type": "markdown",
   "metadata": {},
   "source": [
    "Now we are plotting the probability over the age for men and women."
   ]
  },
  {
   "cell_type": "code",
   "execution_count": 38,
   "metadata": {
    "scrolled": true
   },
   "outputs": [
    {
     "data": {
      "image/png": "[encoded data removed]",
      "text/plain": [
       "<Figure size 432x288 with 2 Axes>"
      ]
     },
     "metadata": {
      "needs_background": "light"
     },
     "output_type": "display_data"
    }
   ],
   "source": [
    "age = 18 #starting age\n",
    "Listx = []\n",
    "Listy = []\n",
    "Listz = []\n",
    "while age <= 100:\n",
    "    Listx.append(age)\n",
    "    male_input = [[age, 1]]\n",
    "    female_input = [[age, 0]]\n",
    "    \n",
    "    male_output = model.predict(male_input)\n",
    "    log_prob = model.predict_log_proba(male_input)\n",
    "    proba = model.predict_proba(male_input)\n",
    "    \n",
    "    female_output = model.predict(female_input)\n",
    "    log_prob2 = model.predict_log_proba(female_input)\n",
    "    proba2 = model.predict_proba(female_input)\n",
    "    \n",
    "    Listy.append(round(proba[0,1],3))\n",
    "    Listz.append(round(proba2[0,1],3))\n",
    "    age = age + 1\n",
    "\n",
    "plt.subplot(1,2,1)\n",
    "plt.plot(Listx, Listy)\n",
    "plt.title(\"Male\")\n",
    "plt.xlabel(\"Age\")\n",
    "plt.ylabel(\"Probability\")\n",
    "\n",
    "plt.subplot(1,2,2)\n",
    "plt.plot(Listx, Listz)\n",
    "plt.title(\"Female\")\n",
    "plt.xlabel(\"Age\")\n",
    "plt.ylabel(\"Probability\")\n",
    "\n",
    "plt.tight_layout()\n",
    "plt.show()"
   ]
  },
  {
   "cell_type": "markdown",
   "metadata": {},
   "source": [
    "# 2) From the smart watch we acquire \"MaxHR\" and \"RestingBP\""
   ]
  },
  {
   "cell_type": "markdown",
   "metadata": {},
   "source": [
    "From the heatmap before we can see the correlation of \"MaxHR\", \"RestingBP\" and \"HeartDiesease\".\n",
    "Between \"MaxHR\" and \"HearDisease\" we have a higher correlation than between \"RestingBP\" and \"HeartDiesease\".\n",
    "This gives us a first hint, however we will still compare the accuracies."
   ]
  },
  {
   "cell_type": "code",
   "execution_count": 41,
   "metadata": {},
   "outputs": [
    {
     "name": "stdout",
     "output_type": "stream",
     "text": [
      "Accuracy(MaxHR): 0.7124183006535948\n",
      "Accuracy(RestingBP): 0.6884531590413944\n",
      "Accuracy(MaxHR and RestingBP): 0.7091503267973857\n"
     ]
    }
   ],
   "source": [
    "hr_ = df[[\"Age\", \"Sex\",\"MaxHR\"]]#Feature Matrix 1\n",
    "bp_ = df[[\"Age\", \"Sex\", \"RestingBP\"]]#Feature Matrix 2\n",
    "hr_bp = df[[\"Age\", \"Sex\",\"MaxHR\", \"RestingBP\"]]#Feature Matrix 3\n",
    "\n",
    "\n",
    "model = LogisticRegression(solver='lbfgs')\n",
    "model.fit(hr_, y)\n",
    "yhat = model.predict(hr_)\n",
    "acc3 = accuracy_score(y, yhat)\n",
    "print(\"Accuracy(MaxHR):\",acc3)\n",
    "model.fit(bp_, y)\n",
    "yhat = model.predict(bp_)\n",
    "acc3 = accuracy_score(y, yhat)\n",
    "print(\"Accuracy(RestingBP):\",acc3)\n",
    "model.fit(hr_bp, y)\n",
    "yhat = model.predict(hr_bp)\n",
    "acc3 = accuracy_score(y, yhat)\n",
    "print(\"Accuracy(MaxHR and RestingBP):\",acc3)\n"
   ]
  },
  {
   "cell_type": "markdown",
   "metadata": {},
   "source": [
    "So the heart ratio increases our accuracy while the blood pressure is doing the opposite."
   ]
  },
  {
   "cell_type": "markdown",
   "metadata": {},
   "source": [
    "# 3) Increasing the accuracy with a parameter which won't  be acquired with a standard smart watch"
   ]
  },
  {
   "cell_type": "markdown",
   "metadata": {},
   "source": [
    "\"ExerciseAngina\" has the highest correlation with \"HeartDisease\", so we will go with it, even so a smart watch can't make that kind of statement."
   ]
  },
  {
   "cell_type": "code",
   "execution_count": 44,
   "metadata": {},
   "outputs": [
    {
     "name": "stdout",
     "output_type": "stream",
     "text": [
      "Accuracy: 0.7690631808278867\n"
     ]
    }
   ],
   "source": [
    "exer_ang = df[[\"Age\", \"Sex\",\"MaxHR\",\"ExerciseAngina\"]]#Feature Matrix\n",
    "\n",
    "model = LogisticRegression(solver='lbfgs')\n",
    "model.fit(exer_ang, y)\n",
    "yhat = model.predict(exer_ang)\n",
    "acc4 = accuracy_score(y, yhat)\n",
    "print(\"Accuracy:\",acc4)"
   ]
  },
  {
   "cell_type": "code",
   "execution_count": null,
   "metadata": {},
   "outputs": [],
   "source": []
  }
 ],
 "metadata": {
  "kernelspec": {
   "display_name": "Python 3",
   "language": "python",
   "name": "python3"
  },
  "language_info": {
   "codemirror_mode": {
    "name": "ipython",
    "version": 3
   },
   "file_extension": ".py",
   "mimetype": "text/x-python",
   "name": "python",
   "nbconvert_exporter": "python",
   "pygments_lexer": "ipython3",
   "version": "3.8.3"
  }
 },
 "nbformat": 4,
 "nbformat_minor": 4
}
